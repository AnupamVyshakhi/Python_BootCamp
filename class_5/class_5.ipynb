{
  "nbformat": 4,
  "nbformat_minor": 0,
  "metadata": {
    "colab": {
      "provenance": []
    },
    "kernelspec": {
      "name": "python3",
      "display_name": "Python 3"
    },
    "language_info": {
      "name": "python"
    }
  },
  "cells": [
    {
      "cell_type": "markdown",
      "source": [
        "Dictionary\n"
      ],
      "metadata": {
        "id": "AOhiUQ5DzLpl"
      }
    },
    {
      "cell_type": "code",
      "source": [
        "#data can be stored as key-value pair\n",
        "#keys cannot be repeated\n",
        "dict1={1:\"Anupam\",2:\"Fathmi\",3:\"Sidra\",4:\"Nandana\"}\n",
        "print(dict1)"
      ],
      "metadata": {
        "colab": {
          "base_uri": "https://localhost:8080/"
        },
        "id": "mUpOI-lhzPki",
        "outputId": "ff849574-740b-4c1f-e2f4-d0ffd39ec936"
      },
      "execution_count": 1,
      "outputs": [
        {
          "output_type": "stream",
          "name": "stdout",
          "text": [
            "{1: 'Anupam', 2: 'Fathmi', 3: 'Sidra', 4: 'Nandana'}\n"
          ]
        }
      ]
    },
    {
      "cell_type": "code",
      "source": [
        "print(dict1[1])\n",
        "print(dict1[2])\n"
      ],
      "metadata": {
        "colab": {
          "base_uri": "https://localhost:8080/"
        },
        "id": "S92rw9yE1Vzt",
        "outputId": "87cb2eb6-aa94-4416-eef6-cfcb139046b2"
      },
      "execution_count": 8,
      "outputs": [
        {
          "output_type": "stream",
          "name": "stdout",
          "text": [
            "Anupam\n",
            "Fathmi\n"
          ]
        }
      ]
    },
    {
      "cell_type": "code",
      "source": [
        "# cannot print the value whose key is not available\n",
        "print(dict1[7])"
      ],
      "metadata": {
        "colab": {
          "base_uri": "https://localhost:8080/",
          "height": 141
        },
        "id": "NNiYlvJt2POP",
        "outputId": "890debed-4450-499b-9429-743a60bfeca4"
      },
      "execution_count": 9,
      "outputs": [
        {
          "output_type": "error",
          "ename": "KeyError",
          "evalue": "7",
          "traceback": [
            "\u001b[0;31m---------------------------------------------------------------------------\u001b[0m",
            "\u001b[0;31mKeyError\u001b[0m                                  Traceback (most recent call last)",
            "\u001b[0;32m<ipython-input-9-baa0255b1c3b>\u001b[0m in \u001b[0;36m<cell line: 1>\u001b[0;34m()\u001b[0m\n\u001b[0;32m----> 1\u001b[0;31m \u001b[0mprint\u001b[0m\u001b[0;34m(\u001b[0m\u001b[0mdict1\u001b[0m\u001b[0;34m[\u001b[0m\u001b[0;36m7\u001b[0m\u001b[0;34m]\u001b[0m\u001b[0;34m)\u001b[0m\u001b[0;34m\u001b[0m\u001b[0;34m\u001b[0m\u001b[0m\n\u001b[0m",
            "\u001b[0;31mKeyError\u001b[0m: 7"
          ]
        }
      ]
    },
    {
      "cell_type": "code",
      "source": [
        "# keys and values can be of any datatypes\n",
        "dict2={1:'Shahma','Hello':'Vychu','list1':[1,2,3,4]}\n",
        "print(dict2['Hello'])\n",
        "print(dict2['list1'])"
      ],
      "metadata": {
        "colab": {
          "base_uri": "https://localhost:8080/"
        },
        "id": "RkkT8Kf32o_T",
        "outputId": "26caedb4-0137-476e-c935-c8eb64014a5d"
      },
      "execution_count": 11,
      "outputs": [
        {
          "output_type": "stream",
          "name": "stdout",
          "text": [
            "Vychu\n",
            "[1, 2, 3, 4]\n"
          ]
        }
      ]
    },
    {
      "cell_type": "code",
      "source": [
        "#Dictionary is mutable\n",
        "dict2[4]='Kicho'\n",
        "print(dict2)"
      ],
      "metadata": {
        "colab": {
          "base_uri": "https://localhost:8080/"
        },
        "id": "I_k_ydnp3KxZ",
        "outputId": "e863635a-6eba-4142-a895-eebcca4e3a46"
      },
      "execution_count": 12,
      "outputs": [
        {
          "output_type": "stream",
          "name": "stdout",
          "text": [
            "{1: 'Shahma', 'Hello': 'Vychu', 'list1': [1, 2, 3, 4], 4: 'Kicho'}\n"
          ]
        }
      ]
    },
    {
      "cell_type": "code",
      "source": [
        "dict2[4]=\"Kithu\"\n",
        "print(dict2)"
      ],
      "metadata": {
        "colab": {
          "base_uri": "https://localhost:8080/"
        },
        "id": "DN_Qn3Ne3rgE",
        "outputId": "9248f127-31eb-40f9-a3cd-7f0cbc63e672"
      },
      "execution_count": 13,
      "outputs": [
        {
          "output_type": "stream",
          "name": "stdout",
          "text": [
            "{1: 'Shahma', 'Hello': 'Vychu', 'list1': [1, 2, 3, 4], 4: 'Kithu'}\n"
          ]
        }
      ]
    },
    {
      "cell_type": "code",
      "source": [
        "#Membership\n",
        "#in operator only checks for key\n",
        "print(4 in dict2)\n",
        "print(3 in dict2)"
      ],
      "metadata": {
        "colab": {
          "base_uri": "https://localhost:8080/"
        },
        "id": "3qio0Fqa4aVP",
        "outputId": "521146a1-ebb0-4447-b71b-d4307463de1d"
      },
      "execution_count": 16,
      "outputs": [
        {
          "output_type": "stream",
          "name": "stdout",
          "text": [
            "True\n",
            "False\n"
          ]
        }
      ]
    },
    {
      "cell_type": "markdown",
      "source": [
        "Dictionary Traversal"
      ],
      "metadata": {
        "id": "BOirvwCW5Euu"
      }
    },
    {
      "cell_type": "code",
      "source": [
        "for i in dict2:\n",
        "  print(dict2[i])"
      ],
      "metadata": {
        "colab": {
          "base_uri": "https://localhost:8080/"
        },
        "id": "n8e94v_V4mLV",
        "outputId": "84c1d060-d021-4d40-814d-364b75f3cfa1"
      },
      "execution_count": 17,
      "outputs": [
        {
          "output_type": "stream",
          "name": "stdout",
          "text": [
            "Shahma\n",
            "Vychu\n",
            "[1, 2, 3, 4]\n",
            "Kithu\n"
          ]
        }
      ]
    },
    {
      "cell_type": "code",
      "source": [
        "for i in dict2:\n",
        "  print(i,\":\",dict2[i])"
      ],
      "metadata": {
        "colab": {
          "base_uri": "https://localhost:8080/"
        },
        "id": "FHbbyOAj5xu1",
        "outputId": "73454688-ea23-40cf-8df1-bb7550b40440"
      },
      "execution_count": 18,
      "outputs": [
        {
          "output_type": "stream",
          "name": "stdout",
          "text": [
            "1 : Shahma\n",
            "Hello : Vychu\n",
            "list1 : [1, 2, 3, 4]\n",
            "4 : Kithu\n"
          ]
        }
      ]
    },
    {
      "cell_type": "markdown",
      "source": [
        " Dictionary Methods and Built-in funtion"
      ],
      "metadata": {
        "id": "vnsfPB9v6t92"
      }
    },
    {
      "cell_type": "code",
      "source": [
        "# len()\n",
        "len(dict2) #return number of items or keys"
      ],
      "metadata": {
        "colab": {
          "base_uri": "https://localhost:8080/"
        },
        "id": "Yz6XZ0td6rRF",
        "outputId": "d66a07e4-3853-4c00-dd8b-ddefab032b4a"
      },
      "execution_count": 19,
      "outputs": [
        {
          "output_type": "execute_result",
          "data": {
            "text/plain": [
              "4"
            ]
          },
          "metadata": {},
          "execution_count": 19
        }
      ]
    },
    {
      "cell_type": "code",
      "source": [
        "#dict_name.keys()\n",
        "#dict_name.values()\n",
        "#dect_name.items()\n",
        "print(dict2.keys())\n",
        "print(dict2.values())\n",
        "print(dict2.items())"
      ],
      "metadata": {
        "colab": {
          "base_uri": "https://localhost:8080/"
        },
        "id": "mucQ23F17Z1N",
        "outputId": "8cc84662-d20f-40ef-cba3-ec6d16eaead5"
      },
      "execution_count": 22,
      "outputs": [
        {
          "output_type": "stream",
          "name": "stdout",
          "text": [
            "dict_keys([1, 'Hello', 'list1', 4])\n",
            "dict_values(['Shahma', 'Vychu', [1, 2, 3, 4], 'Kithu'])\n",
            "dict_items([(1, 'Shahma'), ('Hello', 'Vychu'), ('list1', [1, 2, 3, 4]), (4, 'Kithu')])\n"
          ]
        }
      ]
    },
    {
      "cell_type": "code",
      "source": [
        "#dict_name.get(key)\n",
        "print(dict2.get(1))\n",
        "print(dict2.get(10)) # get function return 'None' when the key is not available"
      ],
      "metadata": {
        "colab": {
          "base_uri": "https://localhost:8080/"
        },
        "id": "nxXiaRjo8LY1",
        "outputId": "97ce5980-fdc9-418d-e2d4-8092e4f3613b"
      },
      "execution_count": 25,
      "outputs": [
        {
          "output_type": "stream",
          "name": "stdout",
          "text": [
            "Shahma\n",
            "None\n"
          ]
        }
      ]
    },
    {
      "cell_type": "code",
      "source": [
        "#dict1_name.update(dict2_name)\n",
        "d1={1:\"Anupam\",2:\"Melvin\"}\n",
        "d2={3:\"Goutham\",4:\"Akhil\",5:\"Peter\"}\n",
        "d1.update(d2)\n",
        "print(d1)"
      ],
      "metadata": {
        "colab": {
          "base_uri": "https://localhost:8080/"
        },
        "id": "NwHfYfal9A44",
        "outputId": "d948762e-5f67-4a26-d9e2-b8af328fcfc9"
      },
      "execution_count": 27,
      "outputs": [
        {
          "output_type": "stream",
          "name": "stdout",
          "text": [
            "{1: 'Anupam', 2: 'Melvin', 3: 'Goutham', 4: 'Akhil', 5: 'Peter'}\n"
          ]
        }
      ]
    },
    {
      "cell_type": "code",
      "source": [
        "# delete del dict_name[key]\n",
        "del d1[3]\n",
        "print(d1)\n"
      ],
      "metadata": {
        "colab": {
          "base_uri": "https://localhost:8080/"
        },
        "id": "RW8uTlO1-AGZ",
        "outputId": "1ec59db1-f35b-4ad3-a577-b945a6d0f3ac"
      },
      "execution_count": 28,
      "outputs": [
        {
          "output_type": "stream",
          "name": "stdout",
          "text": [
            "{1: 'Anupam', 2: 'Melvin', 4: 'Akhil', 5: 'Peter'}\n"
          ]
        }
      ]
    },
    {
      "cell_type": "code",
      "source": [
        "# deleting the key-value pair which is not in the dictionary\n",
        "del d1[6]\n",
        "print(d1)"
      ],
      "metadata": {
        "colab": {
          "base_uri": "https://localhost:8080/",
          "height": 158
        },
        "id": "hB7Rugy--oRc",
        "outputId": "425d67d0-4012-42c9-c836-93afd751627b"
      },
      "execution_count": 29,
      "outputs": [
        {
          "output_type": "error",
          "ename": "KeyError",
          "evalue": "6",
          "traceback": [
            "\u001b[0;31m---------------------------------------------------------------------------\u001b[0m",
            "\u001b[0;31mKeyError\u001b[0m                                  Traceback (most recent call last)",
            "\u001b[0;32m<ipython-input-29-72af5a1dc814>\u001b[0m in \u001b[0;36m<cell line: 1>\u001b[0;34m()\u001b[0m\n\u001b[0;32m----> 1\u001b[0;31m \u001b[0;32mdel\u001b[0m \u001b[0md1\u001b[0m\u001b[0;34m[\u001b[0m\u001b[0;36m6\u001b[0m\u001b[0;34m]\u001b[0m\u001b[0;34m\u001b[0m\u001b[0;34m\u001b[0m\u001b[0m\n\u001b[0m\u001b[1;32m      2\u001b[0m \u001b[0mprint\u001b[0m\u001b[0;34m(\u001b[0m\u001b[0md1\u001b[0m\u001b[0;34m)\u001b[0m\u001b[0;34m\u001b[0m\u001b[0;34m\u001b[0m\u001b[0m\n",
            "\u001b[0;31mKeyError\u001b[0m: 6"
          ]
        }
      ]
    },
    {
      "cell_type": "code",
      "source": [
        "# dict_name.clear()\n",
        "d2.clear()\n",
        "print(d2)"
      ],
      "metadata": {
        "colab": {
          "base_uri": "https://localhost:8080/"
        },
        "id": "QNF80IqO-07u",
        "outputId": "f534deb5-721d-447f-a4ae-4d34114a1a13"
      },
      "execution_count": 30,
      "outputs": [
        {
          "output_type": "stream",
          "name": "stdout",
          "text": [
            "{}\n"
          ]
        }
      ]
    },
    {
      "cell_type": "code",
      "source": [],
      "metadata": {
        "id": "-ou7M-Xh-x44"
      },
      "execution_count": null,
      "outputs": []
    }
  ]
}