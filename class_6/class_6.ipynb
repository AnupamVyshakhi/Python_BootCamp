{
  "nbformat": 4,
  "nbformat_minor": 0,
  "metadata": {
    "colab": {
      "provenance": []
    },
    "kernelspec": {
      "name": "python3",
      "display_name": "Python 3"
    },
    "language_info": {
      "name": "python"
    }
  },
  "cells": [
    {
      "cell_type": "markdown",
      "source": [
        "Function"
      ],
      "metadata": {
        "id": "vrXW9cdlAPCU"
      }
    },
    {
      "cell_type": "code",
      "source": [
        "def greet():\n",
        "  print(\"Hi\")\n",
        "\n",
        "greet()"
      ],
      "metadata": {
        "colab": {
          "base_uri": "https://localhost:8080/"
        },
        "id": "74PJ_2_bASza",
        "outputId": "47c73e76-1ee4-4cb0-811b-95f9f203ff57"
      },
      "execution_count": null,
      "outputs": [
        {
          "output_type": "stream",
          "name": "stdout",
          "text": [
            "Hi\n"
          ]
        }
      ]
    },
    {
      "cell_type": "code",
      "source": [
        "def greet(name):\n",
        "  print(\"Hi \",name)\n",
        "name=input(\"Enter the name\")\n",
        "greet(name)"
      ],
      "metadata": {
        "colab": {
          "base_uri": "https://localhost:8080/"
        },
        "id": "oRoPsSPDAk-J",
        "outputId": "6337529f-fc96-4263-8bdb-8456e4d27a4f"
      },
      "execution_count": null,
      "outputs": [
        {
          "output_type": "stream",
          "name": "stdout",
          "text": [
            "Enter the nameAnupam\n",
            "Hi  Anupam\n"
          ]
        }
      ]
    },
    {
      "cell_type": "code",
      "source": [
        "def food(amt):\n",
        "  if amt==150:\n",
        "    print(\"Buy Biriyani\")\n",
        "  elif amt==200:\n",
        "    print(\"Buy Mandi\")\n",
        "  else:\n",
        "    print(\"Buy something else\")\n",
        "amount=int(input(\"Enter the amount\"))\n",
        "food(amount)"
      ],
      "metadata": {
        "colab": {
          "base_uri": "https://localhost:8080/"
        },
        "id": "E-C6BxwEA8iE",
        "outputId": "b22afa22-89bc-44ed-d809-4a0bffce2b7b"
      },
      "execution_count": null,
      "outputs": [
        {
          "output_type": "stream",
          "name": "stdout",
          "text": [
            "Enter the amount200\n",
            "Buy Mandi\n"
          ]
        }
      ]
    },
    {
      "cell_type": "code",
      "source": [
        "def food(amt,juice):\n",
        "  if amt==150:\n",
        "    print(f\"Buy Biriyani and {juice} juice\")\n",
        "  elif amt==200:\n",
        "    print(f\"Buy Mandi and {juice} juice\")\n",
        "  else:\n",
        "    print(\"Buy something else\")\n",
        "amount=int(input(\"Enter the amount\"))\n",
        "juice=input(\"Enter the juice\")\n",
        "food(amount,juice)"
      ],
      "metadata": {
        "colab": {
          "base_uri": "https://localhost:8080/"
        },
        "id": "4kowQHqHBcOj",
        "outputId": "6443990b-9f91-46df-a0fc-af98a9b8ab4c"
      },
      "execution_count": 16,
      "outputs": [
        {
          "output_type": "stream",
          "name": "stdout",
          "text": [
            "Enter the amount150\n",
            "Enter the juiceapple\n",
            "Buy Biriyani and apple juice\n"
          ]
        }
      ]
    },
    {
      "cell_type": "code",
      "source": [
        "def food(amt,juice):\n",
        "  if amt==150:\n",
        "    print(f\"Buy Biriyani and {juice} juice\")\n",
        "  elif amt==200:\n",
        "    print(f\"Buy Mandi and {juice} juice\")\n",
        "food(amt==150,juice==\"apple\")"
      ],
      "metadata": {
        "id": "cZUXey0bCW-T",
        "colab": {
          "base_uri": "https://localhost:8080/",
          "height": 176
        },
        "outputId": "da8ac6c4-8d23-4c71-fe9d-fab40546de3e"
      },
      "execution_count": 18,
      "outputs": [
        {
          "output_type": "error",
          "ename": "NameError",
          "evalue": "name 'amt' is not defined",
          "traceback": [
            "\u001b[0;31m---------------------------------------------------------------------------\u001b[0m",
            "\u001b[0;31mNameError\u001b[0m                                 Traceback (most recent call last)",
            "\u001b[0;32m<ipython-input-18-ac20cec8d6cb>\u001b[0m in \u001b[0;36m<cell line: 6>\u001b[0;34m()\u001b[0m\n\u001b[1;32m      4\u001b[0m   \u001b[0;32melif\u001b[0m \u001b[0mamt\u001b[0m\u001b[0;34m==\u001b[0m\u001b[0;36m200\u001b[0m\u001b[0;34m:\u001b[0m\u001b[0;34m\u001b[0m\u001b[0;34m\u001b[0m\u001b[0m\n\u001b[1;32m      5\u001b[0m     \u001b[0mprint\u001b[0m\u001b[0;34m(\u001b[0m\u001b[0;34mf\"Buy Mandi and {juice} juice\"\u001b[0m\u001b[0;34m)\u001b[0m\u001b[0;34m\u001b[0m\u001b[0;34m\u001b[0m\u001b[0m\n\u001b[0;32m----> 6\u001b[0;31m \u001b[0mfood\u001b[0m\u001b[0;34m(\u001b[0m\u001b[0mamt\u001b[0m\u001b[0;34m==\u001b[0m\u001b[0;36m150\u001b[0m\u001b[0;34m,\u001b[0m\u001b[0mjuice\u001b[0m\u001b[0;34m==\u001b[0m\u001b[0;34m\"apple\"\u001b[0m\u001b[0;34m)\u001b[0m\u001b[0;34m\u001b[0m\u001b[0;34m\u001b[0m\u001b[0m\n\u001b[0m",
            "\u001b[0;31mNameError\u001b[0m: name 'amt' is not defined"
          ]
        }
      ]
    },
    {
      "cell_type": "code",
      "source": [
        "def greet(name):\n",
        "  print(f\"Hi {name}, How are You?\")\n",
        "name=input(\"Enter the name\")\n",
        "greet(name)"
      ],
      "metadata": {
        "id": "xSz8QORsC0Js",
        "colab": {
          "base_uri": "https://localhost:8080/"
        },
        "outputId": "b88eb4be-f3f8-40f5-eeee-3a2d1c8d202e"
      },
      "execution_count": 11,
      "outputs": [
        {
          "output_type": "stream",
          "name": "stdout",
          "text": [
            "Enter the nameAnupam\n",
            "Hi Anupam, How are You?\n"
          ]
        }
      ]
    },
    {
      "cell_type": "code",
      "source": [
        "def sum(num1,num2):\n",
        "  sum=num1+num2\n",
        "  return sum\n",
        "def diff(num1,num2):\n",
        "  diff=num1-num2\n",
        "  return diff\n",
        "def mul(num1,num2):\n",
        "  mul=num1*num2\n",
        "  return mul\n",
        "def div(num1,num2):\n",
        "  quo=num1/num2\n",
        "  return quo\n",
        "num1=int(input(\"Enter the number1\"))\n",
        "num2=int(input(\"Enter the number2\"))\n",
        "sum=sum(num1,num2)\n",
        "print(f\"The sum is {sum}\")\n",
        "diff=diff(num1,num2)\n",
        "print(f\"The diffrence is {diff}\")\n",
        "mul=mul(num1,num2)\n",
        "print(f\"The product is {mul}\")\n",
        "quo=div(num1,num2)\n",
        "print(f\"The quotient is {quo}\")\n"
      ],
      "metadata": {
        "colab": {
          "base_uri": "https://localhost:8080/"
        },
        "id": "BzHxfbphKIP-",
        "outputId": "69580bc9-9fa0-452e-bc28-af32cc8bc6bb"
      },
      "execution_count": 15,
      "outputs": [
        {
          "output_type": "stream",
          "name": "stdout",
          "text": [
            "Enter the number128\n",
            "Enter the number27\n",
            "The sum is 35\n",
            "The diffrence is 21\n",
            "The product is 196\n",
            "The quotient is 4.0\n"
          ]
        }
      ]
    }
  ]
}