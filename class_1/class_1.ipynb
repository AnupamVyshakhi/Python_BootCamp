{
  "nbformat": 4,
  "nbformat_minor": 0,
  "metadata": {
    "colab": {
      "provenance": []
    },
    "kernelspec": {
      "name": "python3",
      "display_name": "Python 3"
    },
    "language_info": {
      "name": "python"
    }
  },
  "cells": [
    {
      "cell_type": "code",
      "execution_count": 1,
      "metadata": {
        "colab": {
          "base_uri": "https://localhost:8080/"
        },
        "id": "tr-pGytXbO2t",
        "outputId": "d7e6ef11-dd88-4cb2-a563-c8e75948fa41"
      },
      "outputs": [
        {
          "output_type": "stream",
          "name": "stdout",
          "text": [
            "Hey all\n"
          ]
        }
      ],
      "source": [
        "print(\"Hey all\")"
      ]
    },
    {
      "cell_type": "code",
      "source": [
        "name=input(\"Enter your name\")\n",
        "print(name)"
      ],
      "metadata": {
        "colab": {
          "base_uri": "https://localhost:8080/"
        },
        "id": "Nn3baIiqbc0X",
        "outputId": "8eda419e-9cc5-4ff2-8b3f-7993eb1bd374"
      },
      "execution_count": 7,
      "outputs": [
        {
          "output_type": "stream",
          "name": "stdout",
          "text": [
            "Enter your nameanupam\n",
            "anupam\n"
          ]
        }
      ]
    },
    {
      "cell_type": "code",
      "source": [
        "age=int(input(\"Enter your age\"))\n",
        "print(age)"
      ],
      "metadata": {
        "colab": {
          "base_uri": "https://localhost:8080/"
        },
        "id": "Zf7VLDjSbuF1",
        "outputId": "b97e408c-e4b8-4b0f-ba38-62f5c664e0d6"
      },
      "execution_count": 8,
      "outputs": [
        {
          "output_type": "stream",
          "name": "stdout",
          "text": [
            "Enter your age20\n",
            "20\n"
          ]
        }
      ]
    },
    {
      "cell_type": "code",
      "source": [
        "print(type(name))\n",
        "print(type(age))"
      ],
      "metadata": {
        "colab": {
          "base_uri": "https://localhost:8080/"
        },
        "id": "JRs2lYCDcOtt",
        "outputId": "8dfad528-cca7-4927-9594-e7677e020293"
      },
      "execution_count": 5,
      "outputs": [
        {
          "output_type": "stream",
          "name": "stdout",
          "text": [
            "<class 'str'>\n",
            "<class 'int'>\n"
          ]
        }
      ]
    },
    {
      "cell_type": "code",
      "source": [
        "pi=float(input(\"Enter the roubd off value of pi\"))\n",
        "print(pi)"
      ],
      "metadata": {
        "colab": {
          "base_uri": "https://localhost:8080/"
        },
        "id": "64icuLQZcV_r",
        "outputId": "da1f1ca2-99d2-408c-a29f-062e9a4cff1a"
      },
      "execution_count": 9,
      "outputs": [
        {
          "output_type": "stream",
          "name": "stdout",
          "text": [
            "Enter the roubd off value of pi3.14\n",
            "3.14\n"
          ]
        }
      ]
    },
    {
      "cell_type": "code",
      "source": [
        "# single line comment\n",
        "'''indicates a\n",
        "multiline comment'''\n",
        "print(\"Hey, python\")"
      ],
      "metadata": {
        "colab": {
          "base_uri": "https://localhost:8080/"
        },
        "id": "ywEKfQthc79Q",
        "outputId": "77e0014a-c299-4ac7-8aeb-ce723b4e3155"
      },
      "execution_count": 12,
      "outputs": [
        {
          "output_type": "stream",
          "name": "stdout",
          "text": [
            "Hey, python\n"
          ]
        }
      ]
    },
    {
      "cell_type": "code",
      "source": [
        "print('''We can print\n",
        "multiple lines''')"
      ],
      "metadata": {
        "colab": {
          "base_uri": "https://localhost:8080/"
        },
        "id": "EeMQ8208dRvH",
        "outputId": "e45f9344-5f85-4200-fc37-f3452a238903"
      },
      "execution_count": 13,
      "outputs": [
        {
          "output_type": "stream",
          "name": "stdout",
          "text": [
            "We can print \n",
            "multiple lines\n"
          ]
        }
      ]
    },
    {
      "cell_type": "code",
      "source": [
        "print('''MENU\n",
        "1.Samosa\n",
        "2.Mandi\n",
        "3.Lime Juice\n",
        "4.Chicken Biriyani''')\n",
        "op=int(input(\"Enter your choice :\"))\n",
        "if op==1:\n",
        "  print(\"Order placed is samosa!\")\n",
        "elif op==2:\n",
        "  print(\"Order placed is Mandi!\")\n",
        "elif op==3:\n",
        "  print(\"Order placed is Lime Juice!\")\n",
        "elif op==4:\n",
        "  print(\"Order placed is Chicken Biriyani!\")\n",
        "else:\n",
        "  print(\"Wrong option is chosen!!!\")"
      ],
      "metadata": {
        "colab": {
          "base_uri": "https://localhost:8080/"
        },
        "id": "Lrho4gMGe-5v",
        "outputId": "d37952e5-5def-4e04-89ca-446075e60dd1"
      },
      "execution_count": 14,
      "outputs": [
        {
          "output_type": "stream",
          "name": "stdout",
          "text": [
            "MENU\n",
            "1.Samosa\n",
            "2.Mandi\n",
            "3.Lime Juice\n",
            "4.Chicken Biriyani\n",
            "Enter your choice :3\n",
            "Order placed is Lime Juice!\n"
          ]
        }
      ]
    }
  ]
}